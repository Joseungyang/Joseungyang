{
  "nbformat": 4,
  "nbformat_minor": 0,
  "metadata": {
    "colab": {
      "provenance": [],
      "authorship_tag": "ABX9TyOeErEeZjYvLmJIGew+9Kg+",
      "include_colab_link": true
    },
    "kernelspec": {
      "name": "python3",
      "display_name": "Python 3"
    },
    "language_info": {
      "name": "python"
    }
  },
  "cells": [
    {
      "cell_type": "markdown",
      "metadata": {
        "id": "view-in-github",
        "colab_type": "text"
      },
      "source": [
        "<a href=\"https://colab.research.google.com/github/Joseungyang/Joseungyang/blob/main/%EC%A0%95%EB%B3%B4%EA%B3%BC%ED%95%99_%EC%B5%9C%EC%A2%85_%ED%94%84%EB%A1%9C%EC%A0%9D%ED%8A%B8.ipynb\" target=\"_parent\"><img src=\"https://colab.research.google.com/assets/colab-badge.svg\" alt=\"Open In Colab\"/></a>"
      ]
    },
    {
      "cell_type": "markdown",
      "source": [
        "# **데이터를 본인이 만들었는가?**\n",
        "\n",
        "1. **결과 해석이 신뢰성이 있는가? (논문을 근거해서 해석해야 합니다.)**\n",
        "2. **결과 해석이 의미가 있는가?**\n",
        "3. **결과 해석을 위해 적절한 시각화(그래프)를 하였는가?**\n",
        "4. **보고서는 완성도가 있는가?**\n",
        "5. **프로그램은 완성도가 있는가?**\n",
        "6. **제출 기한을 지켰는가?**"
      ],
      "metadata": {
        "id": "A8d1gQNNTpnu"
      }
    },
    {
      "cell_type": "markdown",
      "source": [
        "##1. 문제 정의\n",
        "\n",
        "분석할 문제나 질문을 명확히 정의합니다.\n",
        "\n",
        "목표와 기대 결과를 설정합니다.\n"
      ],
      "metadata": {
        "id": "aAwXB9ztUezd"
      }
    },
    {
      "cell_type": "markdown",
      "source": [
        "본 프로젝트에서는 사용자 수면 데이터를 분석하여 수면의 질과 효율을 개선할 수 있는 요인들을 식별하고, 수면 패턴을 파악하여 행동 변화를 권장한다. 목표는 수면의 질을 높이는 주요 요인을 도출하고, 개인 맞춤형 수면 개선 전략을 제안하는 것이다. 기대 결과는 사용자가 자신의 수면 패턴을 이해하고, 더 나은 수면을 위해 필요한 변화를 실천할 수 있도록 돕는 것이다."
      ],
      "metadata": {
        "id": "fQDEQgzUW8sj"
      }
    },
    {
      "cell_type": "markdown",
      "source": [
        "## 2. 데이터 수집\n",
        "\n",
        "- 수집한 데이터 설명합니다.\n",
        "- 데이터 수집 방법을 설명합니다."
      ],
      "metadata": {
        "id": "E3-y3QzYVtoc"
      }
    },
    {
      "cell_type": "markdown",
      "source": [
        "수집한 데이터는 각 사용자의 깨어있는 시간, 수면 시간, 기상 시간, 평균 호흡수 등을 나타내고 있다. AI hub에서 데이터를 가져옴"
      ],
      "metadata": {
        "id": "pAzKmPBMt6bC"
      }
    },
    {
      "cell_type": "markdown",
      "source": [
        "## 3. 데이터 전처리\n",
        "\n",
        "- 어떤 데이터 전처리를 했는지 설명합니다.\n",
        "- 결측값 처리, 중복 제거, 이상치 제거 등\n",
        "- **원시 데이터와 전처리 한 데이터 파일은 Git허브에 저장되어 있어야 합니다.**"
      ],
      "metadata": {
        "id": "i4M16PSeV0zs"
      }
    },
    {
      "cell_type": "markdown",
      "source": [
        "써야 될 데이터가 너무 많아서 데이터를 삭제함\n"
      ],
      "metadata": {
        "id": "Hqk3JAj3vpxd"
      }
    },
    {
      "cell_type": "markdown",
      "source": [
        "## 4. 전체 코드\n",
        "\n",
        "- 데이터를 읽어 올 때 Git허브에서 읽어와야 합니다.\n",
        "- 코드에 주석을 달아 주세요."
      ],
      "metadata": {
        "id": "oKCeF3CRV8PM"
      }
    },
    {
      "cell_type": "code",
      "source": [],
      "metadata": {
        "id": "Zvopj36WWtOl"
      },
      "execution_count": null,
      "outputs": []
    },
    {
      "cell_type": "markdown",
      "source": [
        "## 5. 데이터 시각화\n",
        "\n",
        "- 사용한 그래프를 왜 사용했는지 이유를 설명합니다."
      ],
      "metadata": {
        "id": "ACDTCSyNWAkU"
      }
    },
    {
      "cell_type": "code",
      "source": [],
      "metadata": {
        "id": "FeQKBXbzWtmb"
      },
      "execution_count": null,
      "outputs": []
    },
    {
      "cell_type": "markdown",
      "source": [
        "## 6. 결과 해석방법\n",
        "\n",
        "- 참고한 논문의 내용과 내가 분석한 내용이 비교가 될 수 있도록 합니다."
      ],
      "metadata": {
        "id": "9EUOQXv9WLln"
      }
    },
    {
      "cell_type": "code",
      "source": [],
      "metadata": {
        "id": "OaSI80ysWuDi"
      },
      "execution_count": null,
      "outputs": []
    },
    {
      "cell_type": "markdown",
      "source": [
        "## 7. 참고 문헌\n",
        "\n",
        "- 사용한 논문, 사이트를 넣어 주세요.\n",
        "- **참고문헌 작성법을 꼭 찾아보고 넣어 주세요.**"
      ],
      "metadata": {
        "id": "FfYo088ZWTu1"
      }
    },
    {
      "cell_type": "code",
      "source": [],
      "metadata": {
        "id": "-0kJlMM6WuYF"
      },
      "execution_count": null,
      "outputs": []
    },
    {
      "cell_type": "markdown",
      "source": [
        "## 8. 챗Gpt 사용 공유 링크"
      ],
      "metadata": {
        "id": "j5jUEdRUWbd2"
      }
    },
    {
      "cell_type": "markdown",
      "source": [],
      "metadata": {
        "id": "I4s8ACKKWuts"
      }
    },
    {
      "cell_type": "markdown",
      "source": [
        "## 9. 프로젝트를 하면서 느낀점"
      ],
      "metadata": {
        "id": "_ArkoLZGWdu-"
      }
    },
    {
      "cell_type": "markdown",
      "source": [],
      "metadata": {
        "id": "kG6oIBGvWwMD"
      }
    },
    {
      "cell_type": "code",
      "source": [
        "import pandas as pd\n",
        "\n",
        "# 예시 데이터 프레임 생성 (실제로는 API에서 데이터를 가져와야 합니다)\n",
        "data = {\n",
        "    '날짜': ['2023-01-01', '2023-01-02', '2023-01-03'],\n",
        "    '지역': ['서울', '부산', '인천'],\n",
        "    '온도': [5, 10, None],\n",
        "    '강수량': [10.2, 20.3, None]\n",
        "}\n",
        "\n",
        "df = pd.DataFrame(data)\n",
        "\n",
        "# 데이터 확인\n",
        "print(\"데이터 전처리 전:\")\n",
        "print(df)\n",
        "\n",
        "# 결측치 처리\n",
        "df.fillna(0, inplace=True)  # 예시로 결측치를 0으로 채움\n",
        "\n",
        "# 데이터 타입 변환 (예: 날짜 타입으로 변환)\n",
        "df['날짜'] = pd.to_datetime(df['날짜'])\n",
        "\n",
        "# 데이터 전처리 후 결과 확인\n",
        "print(\"\\n데이터 전처리 후:\")\n",
        "print(df)\n"
      ],
      "metadata": {
        "colab": {
          "base_uri": "https://localhost:8080/"
        },
        "id": "uHl73HnTmmXD",
        "outputId": "0582499a-9cdb-474b-b9e7-fd2871bfaa6c"
      },
      "execution_count": null,
      "outputs": [
        {
          "output_type": "stream",
          "name": "stdout",
          "text": [
            "데이터 전처리 전:\n",
            "           날짜  지역    온도   강수량\n",
            "0  2023-01-01  서울   5.0  10.2\n",
            "1  2023-01-02  부산  10.0  20.3\n",
            "2  2023-01-03  인천   NaN   NaN\n",
            "\n",
            "데이터 전처리 후:\n",
            "          날짜  지역    온도   강수량\n",
            "0 2023-01-01  서울   5.0  10.2\n",
            "1 2023-01-02  부산  10.0  20.3\n",
            "2 2023-01-03  인천   0.0   0.0\n"
          ]
        }
      ]
    },
    {
      "cell_type": "code",
      "source": [
        "import requests\n",
        "import json\n",
        "\n",
        "# 예시 API 엔드포인트\n",
        "api_endpoint = 'http://example.com/api/data'\n",
        "\n",
        "# CO2 센서에서 수집한 데이터\n",
        "co2_data = {\n",
        "    'timestamp': '2024-06-14T12:00:00',\n",
        "    'co2_level': 450  # 예시 데이터\n",
        "}\n",
        "\n",
        "# API를 통해 데이터 전송\n",
        "response = requests.post(api_endpoint, json=co2_data)\n",
        "\n",
        "if response.status_code == 200:\n",
        "    print(\"데이터 전송 성공!\")\n",
        "    # API가 반환한 결과를 처리하거나 분석할 수 있음\n",
        "    result = response.json()\n",
        "    print(\"API에서 반환한 결과:\", result)\n",
        "else:\n",
        "    print(\"데이터 전송 실패:\", response.status_code)\n"
      ],
      "metadata": {
        "id": "SjWsL1U_o36s",
        "outputId": "3524b978-db68-4faf-ba1c-58bb0927d458",
        "colab": {
          "base_uri": "https://localhost:8080/"
        }
      },
      "execution_count": null,
      "outputs": [
        {
          "output_type": "stream",
          "name": "stdout",
          "text": [
            "데이터 전송 실패: 404\n"
          ]
        }
      ]
    }
  ]
}